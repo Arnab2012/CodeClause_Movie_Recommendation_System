{
 "cells": [
  {
   "cell_type": "markdown",
   "id": "52c2964b",
   "metadata": {},
   "source": [
    "# Project-2 --> Movie-Recommendation-System"
   ]
  },
  {
   "cell_type": "code",
   "execution_count": 1,
   "id": "5364b169",
   "metadata": {},
   "outputs": [],
   "source": [
    "# importing all libraries\n",
    "import numpy as np\n",
    "import pandas as pd\n",
    "\n",
    "import nltk\n",
    "from nltk.stem.porter import PorterStemmer; # for stemming\n",
    "\n",
    "from sklearn.feature_extraction.text import CountVectorizer # for Vectorization\n",
    "from sklearn.metrics.pairwise import cosine_similarity # calculating cosine distances b/w every movies\n",
    "import pickle # to save the model"
   ]
  },
  {
   "cell_type": "markdown",
   "id": "14a3edc5",
   "metadata": {},
   "source": [
    "# Step-1 : Data Collection"
   ]
  },
  {
   "cell_type": "code",
   "execution_count": 2,
   "id": "067bf9d0",
   "metadata": {},
   "outputs": [],
   "source": [
    "movies=pd.read_csv('movies.csv')"
   ]
  },
  {
   "cell_type": "code",
   "execution_count": 3,
   "id": "9c321e1e",
   "metadata": {},
   "outputs": [
    {
     "data": {
      "text/plain": [
       "(3127, 11)"
      ]
     },
     "execution_count": 3,
     "metadata": {},
     "output_type": "execute_result"
    }
   ],
   "source": [
    "movies.shape # size of the data frame"
   ]
  },
  {
   "cell_type": "code",
   "execution_count": 4,
   "id": "7afd03e8",
   "metadata": {},
   "outputs": [
    {
     "data": {
      "text/html": [
       "<div>\n",
       "<style scoped>\n",
       "    .dataframe tbody tr th:only-of-type {\n",
       "        vertical-align: middle;\n",
       "    }\n",
       "\n",
       "    .dataframe tbody tr th {\n",
       "        vertical-align: top;\n",
       "    }\n",
       "\n",
       "    .dataframe thead th {\n",
       "        text-align: right;\n",
       "    }\n",
       "</style>\n",
       "<table border=\"1\" class=\"dataframe\">\n",
       "  <thead>\n",
       "    <tr style=\"text-align: right;\">\n",
       "      <th></th>\n",
       "      <th>name</th>\n",
       "      <th>date</th>\n",
       "      <th>lang</th>\n",
       "      <th>dur</th>\n",
       "      <th>genre</th>\n",
       "      <th>direc</th>\n",
       "      <th>act</th>\n",
       "      <th>c_rate</th>\n",
       "      <th>u_rate</th>\n",
       "      <th>desc</th>\n",
       "      <th>poster</th>\n",
       "    </tr>\n",
       "  </thead>\n",
       "  <tbody>\n",
       "    <tr>\n",
       "      <th>0</th>\n",
       "      <td>Radhe</td>\n",
       "      <td>13 May, 2021</td>\n",
       "      <td>['Hindi']</td>\n",
       "      <td>2 hrs 15 mins</td>\n",
       "      <td>Action Thriller Crime</td>\n",
       "      <td>Prabhudeva</td>\n",
       "      <td>['Salman Khan', 'Disha Patani', 'Randeep Hooda']</td>\n",
       "      <td>3.0</td>\n",
       "      <td>3.0</td>\n",
       "      <td>This is definitely not the most wanted Bhai fi...</td>\n",
       "      <td>https://static.toiimg.com/thumb/msid-80380429,...</td>\n",
       "    </tr>\n",
       "    <tr>\n",
       "      <th>1</th>\n",
       "      <td>99 Songs</td>\n",
       "      <td>16 Apr, 2021</td>\n",
       "      <td>['Hindi', 'Tamil', 'Telugu']</td>\n",
       "      <td>2 hrs 13 mins</td>\n",
       "      <td>Romance Music</td>\n",
       "      <td>Vishwesh Krishnamoorthy</td>\n",
       "      <td>['Ehan Bhat', 'Edilsy Vargas', 'Lisa Ray']</td>\n",
       "      <td>3.0</td>\n",
       "      <td>3.3</td>\n",
       "      <td>A budding musician takes up the challenge to c...</td>\n",
       "      <td>https://static.toiimg.com/thumb/msid-68883903,...</td>\n",
       "    </tr>\n",
       "    <tr>\n",
       "      <th>2</th>\n",
       "      <td>Bansuri: The Flute</td>\n",
       "      <td>16 Apr, 2021</td>\n",
       "      <td>['Hindi']</td>\n",
       "      <td>1 hr 48 mins</td>\n",
       "      <td>Drama</td>\n",
       "      <td>Hari Viswanathan</td>\n",
       "      <td>['Rituparna Sengupta', 'Anurag Kashyap', 'Upen...</td>\n",
       "      <td>2.5</td>\n",
       "      <td>2.6</td>\n",
       "      <td>In a nutshell, ‘Bansuri’ has its heart at the ...</td>\n",
       "      <td>https://static.toiimg.com/thumb/msid-75670489,...</td>\n",
       "    </tr>\n",
       "    <tr>\n",
       "      <th>3</th>\n",
       "      <td>The Big Bull</td>\n",
       "      <td>08 Apr, 2021</td>\n",
       "      <td>['Hindi']</td>\n",
       "      <td>2 hrs 35 mins</td>\n",
       "      <td>Crime Drama</td>\n",
       "      <td>Kookie V. Gulati</td>\n",
       "      <td>['Abhishek Bachchan', 'Ileana D Cruz', 'Nikita...</td>\n",
       "      <td>3.0</td>\n",
       "      <td>3.4</td>\n",
       "      <td>Overall, ‘The Big Bull’ is a decent attempt to...</td>\n",
       "      <td>https://static.toiimg.com/thumb/msid-71147012,...</td>\n",
       "    </tr>\n",
       "    <tr>\n",
       "      <th>4</th>\n",
       "      <td>Koi Jaane Na</td>\n",
       "      <td>02 Apr, 2021</td>\n",
       "      <td>['Hindi']</td>\n",
       "      <td>2 hrs 9 mins</td>\n",
       "      <td>Thriller</td>\n",
       "      <td>Amin Hajee</td>\n",
       "      <td>['Amyra Dastur', 'Kunal Kapoor', 'Elli Avrram']</td>\n",
       "      <td>2.0</td>\n",
       "      <td>2.1</td>\n",
       "      <td>The most convincing part about this one is its...</td>\n",
       "      <td>https://static.toiimg.com/thumb/msid-67540004,...</td>\n",
       "    </tr>\n",
       "  </tbody>\n",
       "</table>\n",
       "</div>"
      ],
      "text/plain": [
       "                 name          date                          lang  \\\n",
       "0               Radhe  13 May, 2021                     ['Hindi']   \n",
       "1            99 Songs  16 Apr, 2021  ['Hindi', 'Tamil', 'Telugu']   \n",
       "2  Bansuri: The Flute  16 Apr, 2021                     ['Hindi']   \n",
       "3        The Big Bull  08 Apr, 2021                     ['Hindi']   \n",
       "4        Koi Jaane Na  02 Apr, 2021                     ['Hindi']   \n",
       "\n",
       "             dur                   genre                    direc  \\\n",
       "0  2 hrs 15 mins   Action Thriller Crime               Prabhudeva   \n",
       "1  2 hrs 13 mins           Romance Music  Vishwesh Krishnamoorthy   \n",
       "2   1 hr 48 mins                   Drama         Hari Viswanathan   \n",
       "3  2 hrs 35 mins             Crime Drama         Kookie V. Gulati   \n",
       "4   2 hrs 9 mins                Thriller               Amin Hajee   \n",
       "\n",
       "                                                 act  c_rate  u_rate  \\\n",
       "0   ['Salman Khan', 'Disha Patani', 'Randeep Hooda']     3.0     3.0   \n",
       "1         ['Ehan Bhat', 'Edilsy Vargas', 'Lisa Ray']     3.0     3.3   \n",
       "2  ['Rituparna Sengupta', 'Anurag Kashyap', 'Upen...     2.5     2.6   \n",
       "3  ['Abhishek Bachchan', 'Ileana D Cruz', 'Nikita...     3.0     3.4   \n",
       "4    ['Amyra Dastur', 'Kunal Kapoor', 'Elli Avrram']     2.0     2.1   \n",
       "\n",
       "                                                desc  \\\n",
       "0  This is definitely not the most wanted Bhai fi...   \n",
       "1  A budding musician takes up the challenge to c...   \n",
       "2  In a nutshell, ‘Bansuri’ has its heart at the ...   \n",
       "3  Overall, ‘The Big Bull’ is a decent attempt to...   \n",
       "4  The most convincing part about this one is its...   \n",
       "\n",
       "                                              poster  \n",
       "0  https://static.toiimg.com/thumb/msid-80380429,...  \n",
       "1  https://static.toiimg.com/thumb/msid-68883903,...  \n",
       "2  https://static.toiimg.com/thumb/msid-75670489,...  \n",
       "3  https://static.toiimg.com/thumb/msid-71147012,...  \n",
       "4  https://static.toiimg.com/thumb/msid-67540004,...  "
      ]
     },
     "execution_count": 4,
     "metadata": {},
     "output_type": "execute_result"
    }
   ],
   "source": [
    "# checking some samples of the dataframe\n",
    "movies.head()"
   ]
  },
  {
   "cell_type": "code",
   "execution_count": 5,
   "id": "6cfdf711",
   "metadata": {},
   "outputs": [
    {
     "name": "stdout",
     "output_type": "stream",
     "text": [
      "<class 'pandas.core.frame.DataFrame'>\n",
      "RangeIndex: 3127 entries, 0 to 3126\n",
      "Data columns (total 11 columns):\n",
      " #   Column  Non-Null Count  Dtype  \n",
      "---  ------  --------------  -----  \n",
      " 0   name    3127 non-null   object \n",
      " 1   date    3125 non-null   object \n",
      " 2   lang    3034 non-null   object \n",
      " 3   dur     2698 non-null   object \n",
      " 4   genre   2008 non-null   object \n",
      " 5   direc   3068 non-null   object \n",
      " 6   act     2276 non-null   object \n",
      " 7   c_rate  2859 non-null   float64\n",
      " 8   u_rate  3125 non-null   float64\n",
      " 9   desc    1882 non-null   object \n",
      " 10  poster  3125 non-null   object \n",
      "dtypes: float64(2), object(9)\n",
      "memory usage: 268.9+ KB\n"
     ]
    }
   ],
   "source": [
    "# checking attributes of the dataframe\n",
    "movies.info()"
   ]
  },
  {
   "cell_type": "markdown",
   "id": "3d76a338",
   "metadata": {},
   "source": [
    "# Step-2 : Feature Selection"
   ]
  },
  {
   "cell_type": "code",
   "execution_count": 6,
   "id": "a95707ba",
   "metadata": {},
   "outputs": [],
   "source": [
    "# filtering out only useful columns that are important for our results (we are considering only categorical data)\n",
    "movies=movies[['name','genre','direc','act','desc','poster']]"
   ]
  },
  {
   "cell_type": "code",
   "execution_count": 7,
   "id": "d306e493",
   "metadata": {},
   "outputs": [
    {
     "data": {
      "text/html": [
       "<div>\n",
       "<style scoped>\n",
       "    .dataframe tbody tr th:only-of-type {\n",
       "        vertical-align: middle;\n",
       "    }\n",
       "\n",
       "    .dataframe tbody tr th {\n",
       "        vertical-align: top;\n",
       "    }\n",
       "\n",
       "    .dataframe thead th {\n",
       "        text-align: right;\n",
       "    }\n",
       "</style>\n",
       "<table border=\"1\" class=\"dataframe\">\n",
       "  <thead>\n",
       "    <tr style=\"text-align: right;\">\n",
       "      <th></th>\n",
       "      <th>name</th>\n",
       "      <th>genre</th>\n",
       "      <th>direc</th>\n",
       "      <th>act</th>\n",
       "      <th>desc</th>\n",
       "      <th>poster</th>\n",
       "    </tr>\n",
       "  </thead>\n",
       "  <tbody>\n",
       "    <tr>\n",
       "      <th>0</th>\n",
       "      <td>Radhe</td>\n",
       "      <td>Action Thriller Crime</td>\n",
       "      <td>Prabhudeva</td>\n",
       "      <td>['Salman Khan', 'Disha Patani', 'Randeep Hooda']</td>\n",
       "      <td>This is definitely not the most wanted Bhai fi...</td>\n",
       "      <td>https://static.toiimg.com/thumb/msid-80380429,...</td>\n",
       "    </tr>\n",
       "    <tr>\n",
       "      <th>1</th>\n",
       "      <td>99 Songs</td>\n",
       "      <td>Romance Music</td>\n",
       "      <td>Vishwesh Krishnamoorthy</td>\n",
       "      <td>['Ehan Bhat', 'Edilsy Vargas', 'Lisa Ray']</td>\n",
       "      <td>A budding musician takes up the challenge to c...</td>\n",
       "      <td>https://static.toiimg.com/thumb/msid-68883903,...</td>\n",
       "    </tr>\n",
       "    <tr>\n",
       "      <th>2</th>\n",
       "      <td>Bansuri: The Flute</td>\n",
       "      <td>Drama</td>\n",
       "      <td>Hari Viswanathan</td>\n",
       "      <td>['Rituparna Sengupta', 'Anurag Kashyap', 'Upen...</td>\n",
       "      <td>In a nutshell, ‘Bansuri’ has its heart at the ...</td>\n",
       "      <td>https://static.toiimg.com/thumb/msid-75670489,...</td>\n",
       "    </tr>\n",
       "    <tr>\n",
       "      <th>3</th>\n",
       "      <td>The Big Bull</td>\n",
       "      <td>Crime Drama</td>\n",
       "      <td>Kookie V. Gulati</td>\n",
       "      <td>['Abhishek Bachchan', 'Ileana D Cruz', 'Nikita...</td>\n",
       "      <td>Overall, ‘The Big Bull’ is a decent attempt to...</td>\n",
       "      <td>https://static.toiimg.com/thumb/msid-71147012,...</td>\n",
       "    </tr>\n",
       "    <tr>\n",
       "      <th>4</th>\n",
       "      <td>Koi Jaane Na</td>\n",
       "      <td>Thriller</td>\n",
       "      <td>Amin Hajee</td>\n",
       "      <td>['Amyra Dastur', 'Kunal Kapoor', 'Elli Avrram']</td>\n",
       "      <td>The most convincing part about this one is its...</td>\n",
       "      <td>https://static.toiimg.com/thumb/msid-67540004,...</td>\n",
       "    </tr>\n",
       "  </tbody>\n",
       "</table>\n",
       "</div>"
      ],
      "text/plain": [
       "                 name                   genre                    direc  \\\n",
       "0               Radhe   Action Thriller Crime               Prabhudeva   \n",
       "1            99 Songs           Romance Music  Vishwesh Krishnamoorthy   \n",
       "2  Bansuri: The Flute                   Drama         Hari Viswanathan   \n",
       "3        The Big Bull             Crime Drama         Kookie V. Gulati   \n",
       "4        Koi Jaane Na                Thriller               Amin Hajee   \n",
       "\n",
       "                                                 act  \\\n",
       "0   ['Salman Khan', 'Disha Patani', 'Randeep Hooda']   \n",
       "1         ['Ehan Bhat', 'Edilsy Vargas', 'Lisa Ray']   \n",
       "2  ['Rituparna Sengupta', 'Anurag Kashyap', 'Upen...   \n",
       "3  ['Abhishek Bachchan', 'Ileana D Cruz', 'Nikita...   \n",
       "4    ['Amyra Dastur', 'Kunal Kapoor', 'Elli Avrram']   \n",
       "\n",
       "                                                desc  \\\n",
       "0  This is definitely not the most wanted Bhai fi...   \n",
       "1  A budding musician takes up the challenge to c...   \n",
       "2  In a nutshell, ‘Bansuri’ has its heart at the ...   \n",
       "3  Overall, ‘The Big Bull’ is a decent attempt to...   \n",
       "4  The most convincing part about this one is its...   \n",
       "\n",
       "                                              poster  \n",
       "0  https://static.toiimg.com/thumb/msid-80380429,...  \n",
       "1  https://static.toiimg.com/thumb/msid-68883903,...  \n",
       "2  https://static.toiimg.com/thumb/msid-75670489,...  \n",
       "3  https://static.toiimg.com/thumb/msid-71147012,...  \n",
       "4  https://static.toiimg.com/thumb/msid-67540004,...  "
      ]
     },
     "execution_count": 7,
     "metadata": {},
     "output_type": "execute_result"
    }
   ],
   "source": [
    "movies.head()"
   ]
  },
  {
   "cell_type": "markdown",
   "id": "5fa6dc01",
   "metadata": {},
   "source": [
    "# Step-3 : Data Preprocessing"
   ]
  },
  {
   "cell_type": "code",
   "execution_count": 8,
   "id": "bfa99df6",
   "metadata": {},
   "outputs": [
    {
     "data": {
      "text/plain": [
       "name         0\n",
       "genre     1119\n",
       "direc       59\n",
       "act        851\n",
       "desc      1245\n",
       "poster       2\n",
       "dtype: int64"
      ]
     },
     "execution_count": 8,
     "metadata": {},
     "output_type": "execute_result"
    }
   ],
   "source": [
    "# checking missing values for each column\n",
    "movies.isnull().sum()"
   ]
  },
  {
   "cell_type": "code",
   "execution_count": 9,
   "id": "3664eb4d",
   "metadata": {},
   "outputs": [],
   "source": [
    "# filling up missing values\n",
    "movies.fillna('missing',inplace=True)"
   ]
  },
  {
   "cell_type": "code",
   "execution_count": 10,
   "id": "2ae2aea9",
   "metadata": {},
   "outputs": [
    {
     "data": {
      "text/plain": [
       "name      0\n",
       "genre     0\n",
       "direc     0\n",
       "act       0\n",
       "desc      0\n",
       "poster    0\n",
       "dtype: int64"
      ]
     },
     "execution_count": 10,
     "metadata": {},
     "output_type": "execute_result"
    }
   ],
   "source": [
    "movies.isnull().sum()"
   ]
  },
  {
   "cell_type": "code",
   "execution_count": 11,
   "id": "e6d4d7da",
   "metadata": {},
   "outputs": [],
   "source": [
    "# removing spaces for each director names\n",
    "\n",
    "movies.loc[movies['direc'].notnull(), 'direc'] = movies.loc[movies['direc'].notnull(), 'direc'].astype(str).str.replace(' ','')\n",
    "movies['direc'] = movies['direc'].replace(np.nan, '', regex=True) # replacing nan value "
   ]
  },
  {
   "cell_type": "code",
   "execution_count": 12,
   "id": "7f223123",
   "metadata": {},
   "outputs": [
    {
     "data": {
      "text/plain": [
       "0                   Prabhudeva\n",
       "1       VishweshKrishnamoorthy\n",
       "2              HariViswanathan\n",
       "3               KookieV.Gulati\n",
       "4                    AminHajee\n",
       "                 ...          \n",
       "3122              CurtisHanson\n",
       "3123        GaspardUllielActor\n",
       "3124         AishwaryaRaiActor\n",
       "3125                  TimStory\n",
       "3126          OmarGoodingActor\n",
       "Name: direc, Length: 3127, dtype: object"
      ]
     },
     "execution_count": 12,
     "metadata": {},
     "output_type": "execute_result"
    }
   ],
   "source": [
    "movies['direc']"
   ]
  },
  {
   "cell_type": "code",
   "execution_count": 13,
   "id": "36e8c6e0",
   "metadata": {},
   "outputs": [],
   "source": [
    "# converting colums into lists\n",
    "\n",
    "movies['desc']=movies['desc'].apply(lambda x:x.split())\n",
    "movies['genre']=movies['genre'].apply(lambda x:x.split())\n",
    "movies['direc']=movies['direc'].apply(lambda x:x.split())"
   ]
  },
  {
   "cell_type": "code",
   "execution_count": 14,
   "id": "b9d7cdef",
   "metadata": {},
   "outputs": [],
   "source": [
    "# removing spaces for each actor name\n",
    "movies['actor']=movies['act'].apply(lambda x: [name if len(name.split(\" \")) == 1 else name.split(\" \")[0] + name.split(\" \")[1] for name in x.replace(\"[\", \"\").replace(\"]\", \"\").replace(\"'\", \"\").split(\", \")])"
   ]
  },
  {
   "cell_type": "code",
   "execution_count": 15,
   "id": "6c9d9213",
   "metadata": {},
   "outputs": [],
   "source": [
    "# concating desc,genre,actor,director into a single column named 'tags'\n",
    "movies['tags']=movies['desc'] + movies['genre'] + movies['actor'] + movies['direc']\n",
    "movies=movies.rename(columns={'name': 'title'})# renaming 'name' column into 'title' column"
   ]
  },
  {
   "cell_type": "code",
   "execution_count": 16,
   "id": "1fcd41ef",
   "metadata": {},
   "outputs": [],
   "source": [
    "movies=movies[['title','tags','poster']] # final df we required "
   ]
  },
  {
   "cell_type": "code",
   "execution_count": 17,
   "id": "641831b5",
   "metadata": {},
   "outputs": [
    {
     "data": {
      "text/html": [
       "<div>\n",
       "<style scoped>\n",
       "    .dataframe tbody tr th:only-of-type {\n",
       "        vertical-align: middle;\n",
       "    }\n",
       "\n",
       "    .dataframe tbody tr th {\n",
       "        vertical-align: top;\n",
       "    }\n",
       "\n",
       "    .dataframe thead th {\n",
       "        text-align: right;\n",
       "    }\n",
       "</style>\n",
       "<table border=\"1\" class=\"dataframe\">\n",
       "  <thead>\n",
       "    <tr style=\"text-align: right;\">\n",
       "      <th></th>\n",
       "      <th>title</th>\n",
       "      <th>tags</th>\n",
       "      <th>poster</th>\n",
       "    </tr>\n",
       "  </thead>\n",
       "  <tbody>\n",
       "    <tr>\n",
       "      <th>2232</th>\n",
       "      <td>Hitman: Agent 47</td>\n",
       "      <td>[The, action, is, slick, and, indeed,, very, s...</td>\n",
       "      <td>https://static.toiimg.com/thumb/msid-61243713,...</td>\n",
       "    </tr>\n",
       "    <tr>\n",
       "      <th>2630</th>\n",
       "      <td>Machine Gun Preacher</td>\n",
       "      <td>[What, really, makes, up, for, all, in, this, ...</td>\n",
       "      <td>https://static.toiimg.com/thumb/msid-61236070,...</td>\n",
       "    </tr>\n",
       "    <tr>\n",
       "      <th>338</th>\n",
       "      <td>Padmaavat</td>\n",
       "      <td>[‘Padmaavat’, is, an, entertaining,, large, ca...</td>\n",
       "      <td>https://static.toiimg.com/thumb/msid-61979171,...</td>\n",
       "    </tr>\n",
       "    <tr>\n",
       "      <th>2655</th>\n",
       "      <td>What's Your Number?</td>\n",
       "      <td>[missing, missing, missing, AnnaFarisActor]</td>\n",
       "      <td>https://static.toiimg.com/thumb/msid-61914123,...</td>\n",
       "    </tr>\n",
       "    <tr>\n",
       "      <th>436</th>\n",
       "      <td>The Wishing Tree</td>\n",
       "      <td>[There’s, a, lot, for, the, little, ones, to, ...</td>\n",
       "      <td>https://static.toiimg.com/thumb/msid-61303425,...</td>\n",
       "    </tr>\n",
       "  </tbody>\n",
       "</table>\n",
       "</div>"
      ],
      "text/plain": [
       "                     title                                               tags  \\\n",
       "2232      Hitman: Agent 47  [The, action, is, slick, and, indeed,, very, s...   \n",
       "2630  Machine Gun Preacher  [What, really, makes, up, for, all, in, this, ...   \n",
       "338              Padmaavat  [‘Padmaavat’, is, an, entertaining,, large, ca...   \n",
       "2655   What's Your Number?        [missing, missing, missing, AnnaFarisActor]   \n",
       "436       The Wishing Tree  [There’s, a, lot, for, the, little, ones, to, ...   \n",
       "\n",
       "                                                 poster  \n",
       "2232  https://static.toiimg.com/thumb/msid-61243713,...  \n",
       "2630  https://static.toiimg.com/thumb/msid-61236070,...  \n",
       "338   https://static.toiimg.com/thumb/msid-61979171,...  \n",
       "2655  https://static.toiimg.com/thumb/msid-61914123,...  \n",
       "436   https://static.toiimg.com/thumb/msid-61303425,...  "
      ]
     },
     "execution_count": 17,
     "metadata": {},
     "output_type": "execute_result"
    }
   ],
   "source": [
    "movies.sample(5)"
   ]
  },
  {
   "cell_type": "code",
   "execution_count": 18,
   "id": "ad5c42df",
   "metadata": {},
   "outputs": [],
   "source": [
    "movies['tags']=movies['tags'].apply(lambda x:\" \".join(x)) # converting tag lists into String"
   ]
  },
  {
   "cell_type": "code",
   "execution_count": 19,
   "id": "9ba66f94",
   "metadata": {},
   "outputs": [],
   "source": [
    "movies['tags']=movies['tags'].apply(lambda x:x.lower()) # converting into lower case"
   ]
  },
  {
   "cell_type": "code",
   "execution_count": 20,
   "id": "5d60c129",
   "metadata": {},
   "outputs": [
    {
     "data": {
      "text/html": [
       "<div>\n",
       "<style scoped>\n",
       "    .dataframe tbody tr th:only-of-type {\n",
       "        vertical-align: middle;\n",
       "    }\n",
       "\n",
       "    .dataframe tbody tr th {\n",
       "        vertical-align: top;\n",
       "    }\n",
       "\n",
       "    .dataframe thead th {\n",
       "        text-align: right;\n",
       "    }\n",
       "</style>\n",
       "<table border=\"1\" class=\"dataframe\">\n",
       "  <thead>\n",
       "    <tr style=\"text-align: right;\">\n",
       "      <th></th>\n",
       "      <th>title</th>\n",
       "      <th>tags</th>\n",
       "      <th>poster</th>\n",
       "    </tr>\n",
       "  </thead>\n",
       "  <tbody>\n",
       "    <tr>\n",
       "      <th>0</th>\n",
       "      <td>Radhe</td>\n",
       "      <td>this is definitely not the most wanted bhai fi...</td>\n",
       "      <td>https://static.toiimg.com/thumb/msid-80380429,...</td>\n",
       "    </tr>\n",
       "    <tr>\n",
       "      <th>1</th>\n",
       "      <td>99 Songs</td>\n",
       "      <td>a budding musician takes up the challenge to c...</td>\n",
       "      <td>https://static.toiimg.com/thumb/msid-68883903,...</td>\n",
       "    </tr>\n",
       "    <tr>\n",
       "      <th>2</th>\n",
       "      <td>Bansuri: The Flute</td>\n",
       "      <td>in a nutshell, ‘bansuri’ has its heart at the ...</td>\n",
       "      <td>https://static.toiimg.com/thumb/msid-75670489,...</td>\n",
       "    </tr>\n",
       "    <tr>\n",
       "      <th>3</th>\n",
       "      <td>The Big Bull</td>\n",
       "      <td>overall, ‘the big bull’ is a decent attempt to...</td>\n",
       "      <td>https://static.toiimg.com/thumb/msid-71147012,...</td>\n",
       "    </tr>\n",
       "    <tr>\n",
       "      <th>4</th>\n",
       "      <td>Koi Jaane Na</td>\n",
       "      <td>the most convincing part about this one is its...</td>\n",
       "      <td>https://static.toiimg.com/thumb/msid-67540004,...</td>\n",
       "    </tr>\n",
       "  </tbody>\n",
       "</table>\n",
       "</div>"
      ],
      "text/plain": [
       "                title                                               tags  \\\n",
       "0               Radhe  this is definitely not the most wanted bhai fi...   \n",
       "1            99 Songs  a budding musician takes up the challenge to c...   \n",
       "2  Bansuri: The Flute  in a nutshell, ‘bansuri’ has its heart at the ...   \n",
       "3        The Big Bull  overall, ‘the big bull’ is a decent attempt to...   \n",
       "4        Koi Jaane Na  the most convincing part about this one is its...   \n",
       "\n",
       "                                              poster  \n",
       "0  https://static.toiimg.com/thumb/msid-80380429,...  \n",
       "1  https://static.toiimg.com/thumb/msid-68883903,...  \n",
       "2  https://static.toiimg.com/thumb/msid-75670489,...  \n",
       "3  https://static.toiimg.com/thumb/msid-71147012,...  \n",
       "4  https://static.toiimg.com/thumb/msid-67540004,...  "
      ]
     },
     "execution_count": 20,
     "metadata": {},
     "output_type": "execute_result"
    }
   ],
   "source": [
    "# final data frame\n",
    "movies.head()"
   ]
  },
  {
   "cell_type": "markdown",
   "id": "73a2a10d",
   "metadata": {},
   "source": [
    "# Step-4 : Stemming 'tags' column (converting all words to it's root word)"
   ]
  },
  {
   "cell_type": "code",
   "execution_count": 21,
   "id": "5e1195c8",
   "metadata": {},
   "outputs": [],
   "source": [
    "ps=PorterStemmer()"
   ]
  },
  {
   "cell_type": "code",
   "execution_count": 22,
   "id": "16a2cf20",
   "metadata": {},
   "outputs": [],
   "source": [
    "# for each text in tags apply stemming on it\n",
    "def stem(text):\n",
    "    y=[]\n",
    "    for i in text.split():\n",
    "        y.append(ps.stem(i))\n",
    "    return \" \".join(y)"
   ]
  },
  {
   "cell_type": "code",
   "execution_count": 23,
   "id": "1f708235",
   "metadata": {},
   "outputs": [],
   "source": [
    "movies['tags']=movies['tags'].apply(stem)"
   ]
  },
  {
   "cell_type": "markdown",
   "id": "0b2683e1",
   "metadata": {},
   "source": [
    "# Step-5 : Vectorization (counting most common 10000 words among all tags)"
   ]
  },
  {
   "cell_type": "code",
   "execution_count": 24,
   "id": "0990d79d",
   "metadata": {},
   "outputs": [],
   "source": [
    "from sklearn.feature_extraction.text import CountVectorizer"
   ]
  },
  {
   "cell_type": "code",
   "execution_count": 25,
   "id": "500221c9",
   "metadata": {},
   "outputs": [],
   "source": [
    "cv=CountVectorizer(max_features=10000,stop_words='english')"
   ]
  },
  {
   "cell_type": "code",
   "execution_count": 26,
   "id": "dfa605d0",
   "metadata": {},
   "outputs": [],
   "source": [
    "vectors=cv.fit_transform(movies['tags']).toarray()"
   ]
  },
  {
   "cell_type": "code",
   "execution_count": 27,
   "id": "b15956ae",
   "metadata": {},
   "outputs": [
    {
     "data": {
      "text/plain": [
       "(3127, 10000)"
      ]
     },
     "execution_count": 27,
     "metadata": {},
     "output_type": "execute_result"
    }
   ],
   "source": [
    "vectors.shape"
   ]
  },
  {
   "cell_type": "markdown",
   "id": "c502705e",
   "metadata": {},
   "source": [
    "# Step-6 : Calculating Similarity (calculating angular distance between two vectors of movies)"
   ]
  },
  {
   "cell_type": "code",
   "execution_count": 28,
   "id": "2e8815d5",
   "metadata": {},
   "outputs": [],
   "source": [
    "from sklearn.metrics.pairwise import cosine_similarity"
   ]
  },
  {
   "cell_type": "code",
   "execution_count": 29,
   "id": "8e4c8985",
   "metadata": {},
   "outputs": [],
   "source": [
    "similarity=cosine_similarity(vectors)"
   ]
  },
  {
   "cell_type": "code",
   "execution_count": 30,
   "id": "811f1efe",
   "metadata": {},
   "outputs": [
    {
     "data": {
      "text/plain": [
       "0"
      ]
     },
     "execution_count": 30,
     "metadata": {},
     "output_type": "execute_result"
    }
   ],
   "source": [
    "movies[movies['title']=='Radhe'].index[0]"
   ]
  },
  {
   "cell_type": "code",
   "execution_count": 31,
   "id": "9efd1ab6",
   "metadata": {},
   "outputs": [
    {
     "data": {
      "text/plain": [
       "[(1401, 0.4055535528269063),\n",
       " (352, 0.3504383220252312),\n",
       " (2156, 0.3077935056255462),\n",
       " (77, 0.30348848933344197),\n",
       " (320, 0.29821002598961344),\n",
       " (2350, 0.29346959282671103),\n",
       " (2205, 0.27668578554642986),\n",
       " (1171, 0.27529888064467406),\n",
       " (1966, 0.2699527623995085),\n",
       " (1787, 0.2564945880212885)]"
      ]
     },
     "execution_count": 31,
     "metadata": {},
     "output_type": "execute_result"
    }
   ],
   "source": [
    "sorted(list(enumerate(similarity[0])),reverse=True,key=lambda x:x[1])[1:11]"
   ]
  },
  {
   "cell_type": "code",
   "execution_count": 32,
   "id": "e333f39f",
   "metadata": {},
   "outputs": [],
   "source": [
    "def recommend(movie):\n",
    "    ind=movies[movies['title']==movie].index[0] # fetching the selected movie index\n",
    "    distances=similarity[ind] # calculating similarity with other movies\n",
    "    \n",
    "    # sort the distances to find the most similar 10 movies \n",
    "    movie_list=sorted(list(enumerate(distances)),reverse=True,key=lambda x:x[1])[1:11]\n",
    "    for i in movie_list:\n",
    "        print(movies.iloc[i[0]].title)"
   ]
  },
  {
   "cell_type": "markdown",
   "id": "5f835e18",
   "metadata": {},
   "source": [
    "# Step-7 : Checking Outputs"
   ]
  },
  {
   "cell_type": "code",
   "execution_count": 33,
   "id": "de0dc937",
   "metadata": {},
   "outputs": [
    {
     "name": "stdout",
     "output_type": "stream",
     "text": [
      "Wanted\n",
      "Tiger Zinda Hai\n",
      "Money Monster\n",
      "Dabangg 3\n",
      "Baaghi 2\n",
      "The November Man\n",
      "Everly\n",
      "Bodyguard\n",
      "Maze Runner: The Death Cure\n",
      "21 Bridges\n"
     ]
    }
   ],
   "source": [
    "recommend('Radhe')"
   ]
  },
  {
   "cell_type": "markdown",
   "id": "170b42fb",
   "metadata": {},
   "source": [
    "# Step-8 : Saving the model using pickle"
   ]
  },
  {
   "cell_type": "code",
   "execution_count": 34,
   "id": "8c49c281",
   "metadata": {},
   "outputs": [],
   "source": [
    "import pickle"
   ]
  },
  {
   "cell_type": "code",
   "execution_count": 35,
   "id": "e7c7ae6c",
   "metadata": {},
   "outputs": [],
   "source": [
    "pickle.dump(movies,open('movie.pkl','wb'))"
   ]
  },
  {
   "cell_type": "code",
   "execution_count": 36,
   "id": "355a3212",
   "metadata": {},
   "outputs": [],
   "source": [
    "pickle.dump(similarity,open('similarity.pkl','wb'))"
   ]
  },
  {
   "cell_type": "code",
   "execution_count": 38,
   "id": "cca3ef6d",
   "metadata": {},
   "outputs": [],
   "source": [
    "import gzip\n",
    "with open('similarity.pkl', 'rb') as f:\n",
    "    data = pickle.load(f)\n",
    "\n",
    "with gzip.open('compressed_similarity.pkl.gz', 'wb') as f:\n",
    "    pickle.dump(data, f)"
   ]
  },
  {
   "cell_type": "code",
   "execution_count": null,
   "id": "16ad7e4b",
   "metadata": {},
   "outputs": [],
   "source": []
  }
 ],
 "metadata": {
  "kernelspec": {
   "display_name": "Python 3 (ipykernel)",
   "language": "python",
   "name": "python3"
  },
  "language_info": {
   "codemirror_mode": {
    "name": "ipython",
    "version": 3
   },
   "file_extension": ".py",
   "mimetype": "text/x-python",
   "name": "python",
   "nbconvert_exporter": "python",
   "pygments_lexer": "ipython3",
   "version": "3.10.5"
  }
 },
 "nbformat": 4,
 "nbformat_minor": 5
}
